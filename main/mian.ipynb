{
 "cells": [
  {
   "cell_type": "code",
   "execution_count": null,
   "id": "525ea15a",
   "metadata": {},
   "outputs": [],
   "source": [
    "import json\n",
    "import pandas as pd\n",
    "import re\n",
    "import os"
   ]
  },
  {
   "cell_type": "code",
   "execution_count": null,
   "id": "ab9dbf26",
   "metadata": {},
   "outputs": [],
   "source": [
    "def extract_characters_from_text(text, master_character_list):\n",
    "    found_characters = set()\n",
    "    normalized_text = text.lower()\n",
    "\n",
    "    for char in master_character_list:\n",
    "        escaped_name = re.escape(char)\n",
    "        if re.search(r'\\b' + escaped_name + r'\\b', normalized_text, re.IGNORECASE):\n",
    "            found_characters.add(char)\n",
    "            \n",
    "    return list(found_characters)"
   ]
  },
  {
   "cell_type": "code",
   "execution_count": null,
   "id": "a7aee1a7",
   "metadata": {},
   "outputs": [],
   "source": []
  }
 ],
 "metadata": {
  "kernelspec": {
   "display_name": "Python 3",
   "language": "python",
   "name": "python3"
  },
  "language_info": {
   "codemirror_mode": {
    "name": "ipython",
    "version": 3
   },
   "file_extension": ".py",
   "mimetype": "text/x-python",
   "name": "python",
   "nbconvert_exporter": "python",
   "pygments_lexer": "ipython3",
   "version": "3.13.8"
  }
 },
 "nbformat": 4,
 "nbformat_minor": 5
}
